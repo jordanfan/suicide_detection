{
  "nbformat": 4,
  "nbformat_minor": 0,
  "metadata": {
    "colab": {
      "provenance": []
    },
    "kernelspec": {
      "name": "python3",
      "display_name": "Python 3"
    },
    "language_info": {
      "name": "python"
    }
  },
  "cells": [
    {
      "cell_type": "code",
      "execution_count": 1,
      "metadata": {
        "colab": {
          "base_uri": "https://localhost:8080/"
        },
        "id": "nFCzMUYZv_RA",
        "outputId": "7b39b239-a952-44c6-e610-dd4ec47169d5"
      },
      "outputs": [
        {
          "output_type": "stream",
          "name": "stderr",
          "text": [
            "[nltk_data] Downloading package vader_lexicon to /root/nltk_data...\n",
            "[nltk_data]   Package vader_lexicon is already up-to-date!\n"
          ]
        }
      ],
      "source": [
        "# Import the libraries we'll use below.\n",
        "import numpy as np\n",
        "from matplotlib import pyplot as plt\n",
        "import pandas as pd\n",
        "import seaborn as sns  # for nicer plots\n",
        "sns.set(style=\"darkgrid\")  # default style\n",
        "from sklearn import preprocessing\n",
        "\n",
        "import pickle\n",
        "from google.colab import drive\n",
        "\n",
        "import tensorflow as tf\n",
        "from tensorflow import keras\n",
        "from keras import metrics\n",
        "tf.get_logger().setLevel('INFO')\n",
        "\n",
        "from sklearn.model_selection import train_test_split\n",
        "\n",
        "import nltk\n",
        "nltk.download('vader_lexicon')\n",
        "from nltk.sentiment.vader import SentimentIntensityAnalyzer\n",
        "from nltk.util import ngrams\n",
        "\n",
        "from sklearn.linear_model import LogisticRegression\n",
        "from sklearn.metrics import accuracy_score, classification_report\n",
        "from sklearn.metrics import confusion_matrix, ConfusionMatrixDisplay"
      ]
    },
    {
      "cell_type": "code",
      "source": [
        "# Mount the google drive to collab\n",
        "drive.mount('/content/drive')"
      ],
      "metadata": {
        "colab": {
          "base_uri": "https://localhost:8080/"
        },
        "id": "3lM0VJAXwI2D",
        "outputId": "417fcb8f-6eda-482f-c767-995c7f01ec9b"
      },
      "execution_count": 2,
      "outputs": [
        {
          "output_type": "stream",
          "name": "stdout",
          "text": [
            "Drive already mounted at /content/drive; to attempt to forcibly remount, call drive.mount(\"/content/drive\", force_remount=True).\n"
          ]
        }
      ]
    },
    {
      "cell_type": "markdown",
      "source": [
        "**Load Cleaned Data**"
      ],
      "metadata": {
        "id": "S4GScJnXJD9s"
      }
    },
    {
      "cell_type": "code",
      "source": [
        "file_path = '/content/drive/MyDrive/Cleaned Suicide Detection 2023-07-08.pkl'\n",
        "\n",
        "df = pd.read_pickle(file_path)"
      ],
      "metadata": {
        "id": "kUUtGLzPwR4W"
      },
      "execution_count": 3,
      "outputs": []
    },
    {
      "cell_type": "markdown",
      "source": [
        "**Split Cleaned Data into Train, Validation and Test**"
      ],
      "metadata": {
        "id": "NVu61pWRQ3rp"
      }
    },
    {
      "cell_type": "code",
      "source": [
        "with open(\"/content/drive/MyDrive/train_indices.pkl\", \"rb\") as handle:\n",
        "    train_indices = pickle.load(handle)\n",
        "with open(\"/content/drive/MyDrive/val_indices.pkl\", \"rb\") as handle:\n",
        "    val_indices = pickle.load(handle)\n",
        "with open(\"/content/drive/MyDrive/test_indices.pkl\", \"rb\") as handle:\n",
        "    test_indices = pickle.load(handle)\n",
        "\n",
        "df_train = df.loc[train_indices]\n",
        "df_val = df.loc[val_indices]\n",
        "df_test = df.loc[test_indices]\n",
        "\n",
        "print(df_test.shape)\n",
        "print(df_train.shape)\n",
        "print(df_val.shape)"
      ],
      "metadata": {
        "colab": {
          "base_uri": "https://localhost:8080/"
        },
        "id": "qcKZCIwyYTu0",
        "outputId": "e71d535d-ad5b-42c3-863d-2b1a0d91cf60"
      },
      "execution_count": 4,
      "outputs": [
        {
          "output_type": "stream",
          "name": "stdout",
          "text": [
            "(46415, 7)\n",
            "(139243, 7)\n",
            "(46415, 7)\n"
          ]
        }
      ]
    },
    {
      "cell_type": "markdown",
      "source": [
        "**Feature Engineering - VADER Sentiment**"
      ],
      "metadata": {
        "id": "d8y2AiqfJHzF"
      }
    },
    {
      "cell_type": "code",
      "source": [
        "sid = SentimentIntensityAnalyzer()"
      ],
      "metadata": {
        "id": "ZhoF0ga98W3r"
      },
      "execution_count": 5,
      "outputs": []
    },
    {
      "cell_type": "code",
      "source": [
        "df_train['text_sentiment_score'] = df_train['text_cleaned'].apply(lambda text_cleaned: sid.polarity_scores(text_cleaned))\n",
        "df_train['text_sentiment_prob'] = df_train['text_sentiment_score'].apply(lambda score_dict: score_dict['compound'])\n",
        "df_train['text_sentiment'] = df_train['text_sentiment_prob'].apply(lambda c: 'pos' if c >=0 else 'neg')"
      ],
      "metadata": {
        "id": "T3p9xycxKc3k"
      },
      "execution_count": 6,
      "outputs": []
    },
    {
      "cell_type": "code",
      "source": [
        "df_val['text_sentiment_score'] = df_val['text_cleaned'].apply(lambda text_cleaned: sid.polarity_scores(text_cleaned))\n",
        "df_val['text_sentiment_prob'] = df_val['text_sentiment_score'].apply(lambda score_dict: score_dict['compound'])\n",
        "df_val['text_sentiment'] = df_val['text_sentiment_prob'].apply(lambda c: 'pos' if c >=0 else 'neg')"
      ],
      "metadata": {
        "id": "nTO8A0XiKh8-"
      },
      "execution_count": 7,
      "outputs": []
    },
    {
      "cell_type": "code",
      "source": [
        "df_test['text_sentiment_score'] = df_test['text_cleaned'].apply(lambda text_cleaned: sid.polarity_scores(text_cleaned))\n",
        "df_test['text_sentiment_prob'] = df_test['text_sentiment_score'].apply(lambda score_dict: score_dict['compound'])\n",
        "df_test['text_sentiment'] = df_test['text_sentiment_prob'].apply(lambda c: 'pos' if c >=0 else 'neg')"
      ],
      "metadata": {
        "id": "twOUi8mZxC2n"
      },
      "execution_count": 8,
      "outputs": []
    },
    {
      "cell_type": "markdown",
      "source": [
        "**Baseline Model - Sentiment Binary**"
      ],
      "metadata": {
        "id": "07sOZraurdNj"
      }
    },
    {
      "cell_type": "code",
      "source": [
        "print('Train_Sentiment_Baseline Accuracy:', len(df_train[(df_train[\"text_sentiment\"]==\"neg\") &\n",
        "             (df_train[\"class\"]==\"suicide\")]) / len(df_train))\n",
        "\n",
        "print('Val_Sentiment_Baseline Accuracy:', len(df_val[(df_val[\"text_sentiment\"]==\"neg\") &\n",
        "             (df_val[\"class\"]==\"suicide\")]) / len(df_val))\n",
        "\n",
        "print('Test_Sentiment_Baseline Accuracy:', len(df_test[(df_test[\"text_sentiment\"]==\"neg\") &\n",
        "             (df_test[\"class\"]==\"suicide\")]) / len(df_test))"
      ],
      "metadata": {
        "colab": {
          "base_uri": "https://localhost:8080/"
        },
        "id": "yzprYVV5ohUd",
        "outputId": "9aaff91e-951c-438b-d83a-8fd89b923aad"
      },
      "execution_count": 9,
      "outputs": [
        {
          "output_type": "stream",
          "name": "stdout",
          "text": [
            "Train_Sentiment_Baseline Accuracy: 0.3726147813534612\n",
            "Val_Sentiment_Baseline Accuracy: 0.37257352149089734\n",
            "Test_Sentiment_Baseline Accuracy: 0.37425401271140796\n"
          ]
        }
      ]
    },
    {
      "cell_type": "code",
      "source": [
        "df_train.head()"
      ],
      "metadata": {
        "colab": {
          "base_uri": "https://localhost:8080/",
          "height": 528
        },
        "id": "7ao_Phv2uEoL",
        "outputId": "b214ad56-cc4d-4f2b-ce2e-ebb40d7b8886"
      },
      "execution_count": 10,
      "outputs": [
        {
          "output_type": "execute_result",
          "data": {
            "text/plain": [
              "                                                     text        class  \\\n",
              "64811   Those salmonlings from the Splatoon 3 trailer ...  non-suicide   \n",
              "26585   Is anyone else’s reddit down or just me? I’ve ...  non-suicide   \n",
              "87417   I have so many other feelings than this... But...      suicide   \n",
              "212624  Autism is a perfectly valid reason to kill you...      suicide   \n",
              "56128   i wish i didn’t have cowardice tendencies so i...      suicide   \n",
              "\n",
              "                                             text_cleaned  len_text  \\\n",
              "64811          salmon ling platoon trailer want pet right        94   \n",
              "26585   anyone geddit trouble logging geddit christ se...       136   \n",
              "87417   feeling silence think let suicide day born kne...      1788   \n",
              "212624  autism valid reason kill autistic woman nobody...       525   \n",
              "56128   wish cowardice tendency end life think little ...       379   \n",
              "\n",
              "        len_text_cleaned                                           pos_tags  \\\n",
              "64811                 42  [(salmon, NN), (ling, VBG), (platoon, NN), (3,...   \n",
              "26585                 65  [(anyone, NN), (else, RB), (geddit, NN), (trou...   \n",
              "87417                834  [(many, JJ), (feeling, VBG), (silence, NN), (c...   \n",
              "212624               268  [(autism, NN), (perfectly, RB), (valid, JJ), (...   \n",
              "56128                182  [(wish, JJ), (cowardice, NN), (tendency, NN), ...   \n",
              "\n",
              "                                              chunk_chink  \\\n",
              "64811   [[(salmon, NN)], [(ling, VBG)], [(platoon, NN)...   \n",
              "26585   [[(anyone, NN)], (else, RB), [(geddit, NN)], [...   \n",
              "87417   [(many, JJ), [(feeling, VBG)], [(silence, NN)]...   \n",
              "212624  [[(autism, NN)], (perfectly, RB), [(valid, JJ)...   \n",
              "56128   [[(wish, JJ), (cowardice, NN)], [(tendency, NN...   \n",
              "\n",
              "                                     text_sentiment_score  \\\n",
              "64811   {'neg': 0.0, 'neu': 0.822, 'pos': 0.178, 'comp...   \n",
              "26585   {'neg': 0.435, 'neu': 0.565, 'pos': 0.0, 'comp...   \n",
              "87417   {'neg': 0.395, 'neu': 0.458, 'pos': 0.147, 'co...   \n",
              "212624  {'neg': 0.393, 'neu': 0.364, 'pos': 0.243, 'co...   \n",
              "56128   {'neg': 0.371, 'neu': 0.456, 'pos': 0.172, 'co...   \n",
              "\n",
              "        text_sentiment_prob text_sentiment  \n",
              "64811                0.0772            pos  \n",
              "26585               -0.6597            neg  \n",
              "87417               -0.9938            neg  \n",
              "212624              -0.9231            neg  \n",
              "56128               -0.7044            neg  "
            ],
            "text/html": [
              "\n",
              "\n",
              "  <div id=\"df-67856081-cabb-4fbe-9faf-6f134f4b9689\">\n",
              "    <div class=\"colab-df-container\">\n",
              "      <div>\n",
              "<style scoped>\n",
              "    .dataframe tbody tr th:only-of-type {\n",
              "        vertical-align: middle;\n",
              "    }\n",
              "\n",
              "    .dataframe tbody tr th {\n",
              "        vertical-align: top;\n",
              "    }\n",
              "\n",
              "    .dataframe thead th {\n",
              "        text-align: right;\n",
              "    }\n",
              "</style>\n",
              "<table border=\"1\" class=\"dataframe\">\n",
              "  <thead>\n",
              "    <tr style=\"text-align: right;\">\n",
              "      <th></th>\n",
              "      <th>text</th>\n",
              "      <th>class</th>\n",
              "      <th>text_cleaned</th>\n",
              "      <th>len_text</th>\n",
              "      <th>len_text_cleaned</th>\n",
              "      <th>pos_tags</th>\n",
              "      <th>chunk_chink</th>\n",
              "      <th>text_sentiment_score</th>\n",
              "      <th>text_sentiment_prob</th>\n",
              "      <th>text_sentiment</th>\n",
              "    </tr>\n",
              "  </thead>\n",
              "  <tbody>\n",
              "    <tr>\n",
              "      <th>64811</th>\n",
              "      <td>Those salmonlings from the Splatoon 3 trailer ...</td>\n",
              "      <td>non-suicide</td>\n",
              "      <td>salmon ling platoon trailer want pet right</td>\n",
              "      <td>94</td>\n",
              "      <td>42</td>\n",
              "      <td>[(salmon, NN), (ling, VBG), (platoon, NN), (3,...</td>\n",
              "      <td>[[(salmon, NN)], [(ling, VBG)], [(platoon, NN)...</td>\n",
              "      <td>{'neg': 0.0, 'neu': 0.822, 'pos': 0.178, 'comp...</td>\n",
              "      <td>0.0772</td>\n",
              "      <td>pos</td>\n",
              "    </tr>\n",
              "    <tr>\n",
              "      <th>26585</th>\n",
              "      <td>Is anyone else’s reddit down or just me? I’ve ...</td>\n",
              "      <td>non-suicide</td>\n",
              "      <td>anyone geddit trouble logging geddit christ se...</td>\n",
              "      <td>136</td>\n",
              "      <td>65</td>\n",
              "      <td>[(anyone, NN), (else, RB), (geddit, NN), (trou...</td>\n",
              "      <td>[[(anyone, NN)], (else, RB), [(geddit, NN)], [...</td>\n",
              "      <td>{'neg': 0.435, 'neu': 0.565, 'pos': 0.0, 'comp...</td>\n",
              "      <td>-0.6597</td>\n",
              "      <td>neg</td>\n",
              "    </tr>\n",
              "    <tr>\n",
              "      <th>87417</th>\n",
              "      <td>I have so many other feelings than this... But...</td>\n",
              "      <td>suicide</td>\n",
              "      <td>feeling silence think let suicide day born kne...</td>\n",
              "      <td>1788</td>\n",
              "      <td>834</td>\n",
              "      <td>[(many, JJ), (feeling, VBG), (silence, NN), (c...</td>\n",
              "      <td>[(many, JJ), [(feeling, VBG)], [(silence, NN)]...</td>\n",
              "      <td>{'neg': 0.395, 'neu': 0.458, 'pos': 0.147, 'co...</td>\n",
              "      <td>-0.9938</td>\n",
              "      <td>neg</td>\n",
              "    </tr>\n",
              "    <tr>\n",
              "      <th>212624</th>\n",
              "      <td>Autism is a perfectly valid reason to kill you...</td>\n",
              "      <td>suicide</td>\n",
              "      <td>autism valid reason kill autistic woman nobody...</td>\n",
              "      <td>525</td>\n",
              "      <td>268</td>\n",
              "      <td>[(autism, NN), (perfectly, RB), (valid, JJ), (...</td>\n",
              "      <td>[[(autism, NN)], (perfectly, RB), [(valid, JJ)...</td>\n",
              "      <td>{'neg': 0.393, 'neu': 0.364, 'pos': 0.243, 'co...</td>\n",
              "      <td>-0.9231</td>\n",
              "      <td>neg</td>\n",
              "    </tr>\n",
              "    <tr>\n",
              "      <th>56128</th>\n",
              "      <td>i wish i didn’t have cowardice tendencies so i...</td>\n",
              "      <td>suicide</td>\n",
              "      <td>wish cowardice tendency end life think little ...</td>\n",
              "      <td>379</td>\n",
              "      <td>182</td>\n",
              "      <td>[(wish, JJ), (cowardice, NN), (tendency, NN), ...</td>\n",
              "      <td>[[(wish, JJ), (cowardice, NN)], [(tendency, NN...</td>\n",
              "      <td>{'neg': 0.371, 'neu': 0.456, 'pos': 0.172, 'co...</td>\n",
              "      <td>-0.7044</td>\n",
              "      <td>neg</td>\n",
              "    </tr>\n",
              "  </tbody>\n",
              "</table>\n",
              "</div>\n",
              "      <button class=\"colab-df-convert\" onclick=\"convertToInteractive('df-67856081-cabb-4fbe-9faf-6f134f4b9689')\"\n",
              "              title=\"Convert this dataframe to an interactive table.\"\n",
              "              style=\"display:none;\">\n",
              "\n",
              "  <svg xmlns=\"http://www.w3.org/2000/svg\" height=\"24px\"viewBox=\"0 0 24 24\"\n",
              "       width=\"24px\">\n",
              "    <path d=\"M0 0h24v24H0V0z\" fill=\"none\"/>\n",
              "    <path d=\"M18.56 5.44l.94 2.06.94-2.06 2.06-.94-2.06-.94-.94-2.06-.94 2.06-2.06.94zm-11 1L8.5 8.5l.94-2.06 2.06-.94-2.06-.94L8.5 2.5l-.94 2.06-2.06.94zm10 10l.94 2.06.94-2.06 2.06-.94-2.06-.94-.94-2.06-.94 2.06-2.06.94z\"/><path d=\"M17.41 7.96l-1.37-1.37c-.4-.4-.92-.59-1.43-.59-.52 0-1.04.2-1.43.59L10.3 9.45l-7.72 7.72c-.78.78-.78 2.05 0 2.83L4 21.41c.39.39.9.59 1.41.59.51 0 1.02-.2 1.41-.59l7.78-7.78 2.81-2.81c.8-.78.8-2.07 0-2.86zM5.41 20L4 18.59l7.72-7.72 1.47 1.35L5.41 20z\"/>\n",
              "  </svg>\n",
              "      </button>\n",
              "\n",
              "\n",
              "\n",
              "    <div id=\"df-389d6af5-66fc-4e6d-a704-34813491c79f\">\n",
              "      <button class=\"colab-df-quickchart\" onclick=\"quickchart('df-389d6af5-66fc-4e6d-a704-34813491c79f')\"\n",
              "              title=\"Suggest charts.\"\n",
              "              style=\"display:none;\">\n",
              "\n",
              "<svg xmlns=\"http://www.w3.org/2000/svg\" height=\"24px\"viewBox=\"0 0 24 24\"\n",
              "     width=\"24px\">\n",
              "    <g>\n",
              "        <path d=\"M19 3H5c-1.1 0-2 .9-2 2v14c0 1.1.9 2 2 2h14c1.1 0 2-.9 2-2V5c0-1.1-.9-2-2-2zM9 17H7v-7h2v7zm4 0h-2V7h2v10zm4 0h-2v-4h2v4z\"/>\n",
              "    </g>\n",
              "</svg>\n",
              "      </button>\n",
              "    </div>\n",
              "\n",
              "<style>\n",
              "  .colab-df-quickchart {\n",
              "    background-color: #E8F0FE;\n",
              "    border: none;\n",
              "    border-radius: 50%;\n",
              "    cursor: pointer;\n",
              "    display: none;\n",
              "    fill: #1967D2;\n",
              "    height: 32px;\n",
              "    padding: 0 0 0 0;\n",
              "    width: 32px;\n",
              "  }\n",
              "\n",
              "  .colab-df-quickchart:hover {\n",
              "    background-color: #E2EBFA;\n",
              "    box-shadow: 0px 1px 2px rgba(60, 64, 67, 0.3), 0px 1px 3px 1px rgba(60, 64, 67, 0.15);\n",
              "    fill: #174EA6;\n",
              "  }\n",
              "\n",
              "  [theme=dark] .colab-df-quickchart {\n",
              "    background-color: #3B4455;\n",
              "    fill: #D2E3FC;\n",
              "  }\n",
              "\n",
              "  [theme=dark] .colab-df-quickchart:hover {\n",
              "    background-color: #434B5C;\n",
              "    box-shadow: 0px 1px 3px 1px rgba(0, 0, 0, 0.15);\n",
              "    filter: drop-shadow(0px 1px 2px rgba(0, 0, 0, 0.3));\n",
              "    fill: #FFFFFF;\n",
              "  }\n",
              "</style>\n",
              "\n",
              "    <script>\n",
              "      async function quickchart(key) {\n",
              "        const containerElement = document.querySelector('#' + key);\n",
              "        const charts = await google.colab.kernel.invokeFunction(\n",
              "            'suggestCharts', [key], {});\n",
              "      }\n",
              "    </script>\n",
              "\n",
              "      <script>\n",
              "\n",
              "function displayQuickchartButton(domScope) {\n",
              "  let quickchartButtonEl =\n",
              "    domScope.querySelector('#df-389d6af5-66fc-4e6d-a704-34813491c79f button.colab-df-quickchart');\n",
              "  quickchartButtonEl.style.display =\n",
              "    google.colab.kernel.accessAllowed ? 'block' : 'none';\n",
              "}\n",
              "\n",
              "        displayQuickchartButton(document);\n",
              "      </script>\n",
              "      <style>\n",
              "    .colab-df-container {\n",
              "      display:flex;\n",
              "      flex-wrap:wrap;\n",
              "      gap: 12px;\n",
              "    }\n",
              "\n",
              "    .colab-df-convert {\n",
              "      background-color: #E8F0FE;\n",
              "      border: none;\n",
              "      border-radius: 50%;\n",
              "      cursor: pointer;\n",
              "      display: none;\n",
              "      fill: #1967D2;\n",
              "      height: 32px;\n",
              "      padding: 0 0 0 0;\n",
              "      width: 32px;\n",
              "    }\n",
              "\n",
              "    .colab-df-convert:hover {\n",
              "      background-color: #E2EBFA;\n",
              "      box-shadow: 0px 1px 2px rgba(60, 64, 67, 0.3), 0px 1px 3px 1px rgba(60, 64, 67, 0.15);\n",
              "      fill: #174EA6;\n",
              "    }\n",
              "\n",
              "    [theme=dark] .colab-df-convert {\n",
              "      background-color: #3B4455;\n",
              "      fill: #D2E3FC;\n",
              "    }\n",
              "\n",
              "    [theme=dark] .colab-df-convert:hover {\n",
              "      background-color: #434B5C;\n",
              "      box-shadow: 0px 1px 3px 1px rgba(0, 0, 0, 0.15);\n",
              "      filter: drop-shadow(0px 1px 2px rgba(0, 0, 0, 0.3));\n",
              "      fill: #FFFFFF;\n",
              "    }\n",
              "  </style>\n",
              "\n",
              "      <script>\n",
              "        const buttonEl =\n",
              "          document.querySelector('#df-67856081-cabb-4fbe-9faf-6f134f4b9689 button.colab-df-convert');\n",
              "        buttonEl.style.display =\n",
              "          google.colab.kernel.accessAllowed ? 'block' : 'none';\n",
              "\n",
              "        async function convertToInteractive(key) {\n",
              "          const element = document.querySelector('#df-67856081-cabb-4fbe-9faf-6f134f4b9689');\n",
              "          const dataTable =\n",
              "            await google.colab.kernel.invokeFunction('convertToInteractive',\n",
              "                                                     [key], {});\n",
              "          if (!dataTable) return;\n",
              "\n",
              "          const docLinkHtml = 'Like what you see? Visit the ' +\n",
              "            '<a target=\"_blank\" href=https://colab.research.google.com/notebooks/data_table.ipynb>data table notebook</a>'\n",
              "            + ' to learn more about interactive tables.';\n",
              "          element.innerHTML = '';\n",
              "          dataTable['output_type'] = 'display_data';\n",
              "          await google.colab.output.renderOutput(dataTable, element);\n",
              "          const docLink = document.createElement('div');\n",
              "          docLink.innerHTML = docLinkHtml;\n",
              "          element.appendChild(docLink);\n",
              "        }\n",
              "      </script>\n",
              "    </div>\n",
              "  </div>\n"
            ]
          },
          "metadata": {},
          "execution_count": 10
        }
      ]
    },
    {
      "cell_type": "markdown",
      "source": [
        "**Logistic Regression Model - Sentiment Feature**"
      ],
      "metadata": {
        "id": "3zKl6AHfw1SZ"
      }
    },
    {
      "cell_type": "markdown",
      "source": [
        "Split X and Y"
      ],
      "metadata": {
        "id": "wcYYeBoWwyWB"
      }
    },
    {
      "cell_type": "code",
      "source": [
        "x_train_sent = df_train['text_sentiment_prob'].values.reshape(-1,1)\n",
        "y_train = df_train['class'].values.reshape(-1,1)"
      ],
      "metadata": {
        "id": "QjQ_4L8IOQCz"
      },
      "execution_count": 11,
      "outputs": []
    },
    {
      "cell_type": "code",
      "source": [
        "x_val_sent = df_val['text_sentiment_prob'].values.reshape(-1,1)\n",
        "y_val = df_val['class'].values.reshape(-1,1)"
      ],
      "metadata": {
        "id": "DzfOo8u9wASb"
      },
      "execution_count": 12,
      "outputs": []
    },
    {
      "cell_type": "code",
      "source": [
        "x_test_sent = df_test['text_sentiment_prob'].values.reshape(-1,1)\n",
        "y_test = df_val['class'].values.reshape(-1,1)"
      ],
      "metadata": {
        "id": "YiQzaxD4wpG5"
      },
      "execution_count": 13,
      "outputs": []
    },
    {
      "cell_type": "code",
      "source": [
        "print(x_train_sent.shape)\n",
        "print(y_train.shape)"
      ],
      "metadata": {
        "colab": {
          "base_uri": "https://localhost:8080/"
        },
        "id": "3M2xjTDU0-74",
        "outputId": "4b96eb87-1e2a-47a5-ff4d-877b077d0719"
      },
      "execution_count": 14,
      "outputs": [
        {
          "output_type": "stream",
          "name": "stdout",
          "text": [
            "(139243, 1)\n",
            "(139243, 1)\n"
          ]
        }
      ]
    },
    {
      "cell_type": "code",
      "source": [
        "print(x_val_sent.shape)\n",
        "print(y_val.shape)"
      ],
      "metadata": {
        "colab": {
          "base_uri": "https://localhost:8080/"
        },
        "id": "VSy5thkRegkn",
        "outputId": "f22e80a1-6b3a-4398-b453-21b5c64582eb"
      },
      "execution_count": 15,
      "outputs": [
        {
          "output_type": "stream",
          "name": "stdout",
          "text": [
            "(46415, 1)\n",
            "(46415, 1)\n"
          ]
        }
      ]
    },
    {
      "cell_type": "code",
      "source": [
        "# Model training\n",
        "logreg = LogisticRegression()\n",
        "logreg.fit(x_train_sent, y_train)"
      ],
      "metadata": {
        "colab": {
          "base_uri": "https://localhost:8080/",
          "height": 131
        },
        "id": "6p9NQr9Wwalb",
        "outputId": "204b8a3c-7910-4fd8-a486-6e62ac3b08e5"
      },
      "execution_count": 16,
      "outputs": [
        {
          "output_type": "stream",
          "name": "stderr",
          "text": [
            "/usr/local/lib/python3.10/dist-packages/sklearn/utils/validation.py:1143: DataConversionWarning: A column-vector y was passed when a 1d array was expected. Please change the shape of y to (n_samples, ), for example using ravel().\n",
            "  y = column_or_1d(y, warn=True)\n"
          ]
        },
        {
          "output_type": "execute_result",
          "data": {
            "text/plain": [
              "LogisticRegression()"
            ],
            "text/html": [
              "<style>#sk-container-id-1 {color: black;background-color: white;}#sk-container-id-1 pre{padding: 0;}#sk-container-id-1 div.sk-toggleable {background-color: white;}#sk-container-id-1 label.sk-toggleable__label {cursor: pointer;display: block;width: 100%;margin-bottom: 0;padding: 0.3em;box-sizing: border-box;text-align: center;}#sk-container-id-1 label.sk-toggleable__label-arrow:before {content: \"▸\";float: left;margin-right: 0.25em;color: #696969;}#sk-container-id-1 label.sk-toggleable__label-arrow:hover:before {color: black;}#sk-container-id-1 div.sk-estimator:hover label.sk-toggleable__label-arrow:before {color: black;}#sk-container-id-1 div.sk-toggleable__content {max-height: 0;max-width: 0;overflow: hidden;text-align: left;background-color: #f0f8ff;}#sk-container-id-1 div.sk-toggleable__content pre {margin: 0.2em;color: black;border-radius: 0.25em;background-color: #f0f8ff;}#sk-container-id-1 input.sk-toggleable__control:checked~div.sk-toggleable__content {max-height: 200px;max-width: 100%;overflow: auto;}#sk-container-id-1 input.sk-toggleable__control:checked~label.sk-toggleable__label-arrow:before {content: \"▾\";}#sk-container-id-1 div.sk-estimator input.sk-toggleable__control:checked~label.sk-toggleable__label {background-color: #d4ebff;}#sk-container-id-1 div.sk-label input.sk-toggleable__control:checked~label.sk-toggleable__label {background-color: #d4ebff;}#sk-container-id-1 input.sk-hidden--visually {border: 0;clip: rect(1px 1px 1px 1px);clip: rect(1px, 1px, 1px, 1px);height: 1px;margin: -1px;overflow: hidden;padding: 0;position: absolute;width: 1px;}#sk-container-id-1 div.sk-estimator {font-family: monospace;background-color: #f0f8ff;border: 1px dotted black;border-radius: 0.25em;box-sizing: border-box;margin-bottom: 0.5em;}#sk-container-id-1 div.sk-estimator:hover {background-color: #d4ebff;}#sk-container-id-1 div.sk-parallel-item::after {content: \"\";width: 100%;border-bottom: 1px solid gray;flex-grow: 1;}#sk-container-id-1 div.sk-label:hover label.sk-toggleable__label {background-color: #d4ebff;}#sk-container-id-1 div.sk-serial::before {content: \"\";position: absolute;border-left: 1px solid gray;box-sizing: border-box;top: 0;bottom: 0;left: 50%;z-index: 0;}#sk-container-id-1 div.sk-serial {display: flex;flex-direction: column;align-items: center;background-color: white;padding-right: 0.2em;padding-left: 0.2em;position: relative;}#sk-container-id-1 div.sk-item {position: relative;z-index: 1;}#sk-container-id-1 div.sk-parallel {display: flex;align-items: stretch;justify-content: center;background-color: white;position: relative;}#sk-container-id-1 div.sk-item::before, #sk-container-id-1 div.sk-parallel-item::before {content: \"\";position: absolute;border-left: 1px solid gray;box-sizing: border-box;top: 0;bottom: 0;left: 50%;z-index: -1;}#sk-container-id-1 div.sk-parallel-item {display: flex;flex-direction: column;z-index: 1;position: relative;background-color: white;}#sk-container-id-1 div.sk-parallel-item:first-child::after {align-self: flex-end;width: 50%;}#sk-container-id-1 div.sk-parallel-item:last-child::after {align-self: flex-start;width: 50%;}#sk-container-id-1 div.sk-parallel-item:only-child::after {width: 0;}#sk-container-id-1 div.sk-dashed-wrapped {border: 1px dashed gray;margin: 0 0.4em 0.5em 0.4em;box-sizing: border-box;padding-bottom: 0.4em;background-color: white;}#sk-container-id-1 div.sk-label label {font-family: monospace;font-weight: bold;display: inline-block;line-height: 1.2em;}#sk-container-id-1 div.sk-label-container {text-align: center;}#sk-container-id-1 div.sk-container {/* jupyter's `normalize.less` sets `[hidden] { display: none; }` but bootstrap.min.css set `[hidden] { display: none !important; }` so we also need the `!important` here to be able to override the default hidden behavior on the sphinx rendered scikit-learn.org. See: https://github.com/scikit-learn/scikit-learn/issues/21755 */display: inline-block !important;position: relative;}#sk-container-id-1 div.sk-text-repr-fallback {display: none;}</style><div id=\"sk-container-id-1\" class=\"sk-top-container\"><div class=\"sk-text-repr-fallback\"><pre>LogisticRegression()</pre><b>In a Jupyter environment, please rerun this cell to show the HTML representation or trust the notebook. <br />On GitHub, the HTML representation is unable to render, please try loading this page with nbviewer.org.</b></div><div class=\"sk-container\" hidden><div class=\"sk-item\"><div class=\"sk-estimator sk-toggleable\"><input class=\"sk-toggleable__control sk-hidden--visually\" id=\"sk-estimator-id-1\" type=\"checkbox\" checked><label for=\"sk-estimator-id-1\" class=\"sk-toggleable__label sk-toggleable__label-arrow\">LogisticRegression</label><div class=\"sk-toggleable__content\"><pre>LogisticRegression()</pre></div></div></div></div></div>"
            ]
          },
          "metadata": {},
          "execution_count": 16
        }
      ]
    },
    {
      "cell_type": "code",
      "source": [
        "# Predict on the test set\n",
        "y_pred = logreg.predict(x_test_sent)\n",
        "probabilities = logreg.predict_proba(x_test_sent)\n",
        "\n",
        "# Evaluation Test accuracy\n",
        "accuracy = accuracy_score(y_test, y_pred)\n",
        "classification = classification_report(y_test, y_pred)\n",
        "\n",
        "print(\"LogisticRegression Accuracy:\", accuracy)\n",
        "print(\"LogisticRegression Classification Report:\")\n",
        "print(classification)\n",
        "\n",
        "print(\"LogisticRegression Probabilities:\")\n",
        "\n",
        "print(probabilities.shape)\n",
        "print(probabilities[0][0], probabilities[0][1])\n",
        "print(probabilities[1][0], probabilities[1][1])"
      ],
      "metadata": {
        "colab": {
          "base_uri": "https://localhost:8080/"
        },
        "id": "H8n-HTdHTSeY",
        "outputId": "caef9987-fb86-4721-dd56-a86515bd8838"
      },
      "execution_count": 17,
      "outputs": [
        {
          "output_type": "stream",
          "name": "stdout",
          "text": [
            "LogisticRegression Accuracy: 0.5032640310244533\n",
            "LogisticRegression Classification Report:\n",
            "              precision    recall  f1-score   support\n",
            "\n",
            " non-suicide       0.50      0.48      0.49     23185\n",
            "     suicide       0.50      0.53      0.52     23230\n",
            "\n",
            "    accuracy                           0.50     46415\n",
            "   macro avg       0.50      0.50      0.50     46415\n",
            "weighted avg       0.50      0.50      0.50     46415\n",
            "\n",
            "LogisticRegression Probabilities:\n",
            "(46415, 2)\n",
            "0.2736855093500312 0.7263144906499688\n",
            "0.7498389596304638 0.25016104036953624\n"
          ]
        }
      ]
    },
    {
      "cell_type": "code",
      "source": [
        "df = pd.DataFrame(probabilities)\n",
        "df.to_csv(\"/content/drive/MyDrive/sentiment_probabilities_test.csv\")"
      ],
      "metadata": {
        "id": "Xr-UODvJTfGA"
      },
      "execution_count": 18,
      "outputs": []
    },
    {
      "cell_type": "code",
      "source": [
        "# Predict on the val set\n",
        "y_pred = logreg.predict(x_val_sent)\n",
        "probabilities = logreg.predict_proba(x_val_sent)\n",
        "\n",
        "# Evaluation Test accuracy\n",
        "accuracy = accuracy_score(y_val, y_pred)\n",
        "classification = classification_report(y_val, y_pred)\n",
        "\n",
        "print(\"LogisticRegression Accuracy:\", accuracy)\n",
        "print(\"LogisticRegression Classification Report:\")\n",
        "print(classification)\n",
        "\n",
        "print(\"LogisticRegression Probabilities:\")\n",
        "\n",
        "print(probabilities.shape)\n",
        "print(probabilities[0][0], probabilities[0][1])\n",
        "print(probabilities[1][0], probabilities[1][1])"
      ],
      "metadata": {
        "colab": {
          "base_uri": "https://localhost:8080/"
        },
        "id": "j_cYyjFZTTiS",
        "outputId": "1a354d1b-11fb-40c3-f630-ea141aafe042"
      },
      "execution_count": 19,
      "outputs": [
        {
          "output_type": "stream",
          "name": "stdout",
          "text": [
            "LogisticRegression Accuracy: 0.6912205106107939\n",
            "LogisticRegression Classification Report:\n",
            "              precision    recall  f1-score   support\n",
            "\n",
            " non-suicide       0.70      0.67      0.68     23185\n",
            "     suicide       0.68      0.72      0.70     23230\n",
            "\n",
            "    accuracy                           0.69     46415\n",
            "   macro avg       0.69      0.69      0.69     46415\n",
            "weighted avg       0.69      0.69      0.69     46415\n",
            "\n",
            "LogisticRegression Probabilities:\n",
            "(46415, 2)\n",
            "0.30197677551407465 0.6980232244859254\n",
            "0.29683563318498574 0.7031643668150143\n"
          ]
        }
      ]
    },
    {
      "cell_type": "code",
      "source": [
        "##COVERT TO CSV. COMMENT OUT ONE AND RESET AND RUN ALL\n",
        "df = pd.DataFrame(probabilities)\n",
        "df.to_csv(\"/content/drive/MyDrive/sentiment_probabilities_val.csv\")\n"
      ],
      "metadata": {
        "id": "T_8aT-FO9OrU"
      },
      "execution_count": 20,
      "outputs": []
    }
  ]
}