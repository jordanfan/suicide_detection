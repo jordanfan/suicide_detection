{
  "cells": [
    {
      "cell_type": "code",
      "execution_count": 1,
      "metadata": {
        "colab": {
          "base_uri": "https://localhost:8080/"
        },
        "id": "jgaGVv34u_vk",
        "outputId": "75f0008b-d513-4647-dac5-ce7c4120620f"
      },
      "outputs": [
        {
          "output_type": "stream",
          "name": "stdout",
          "text": [
            "Requirement already satisfied: scikit-learn in /usr/local/lib/python3.10/dist-packages (1.2.2)\n",
            "Requirement already satisfied: numpy>=1.17.3 in /usr/local/lib/python3.10/dist-packages (from scikit-learn) (1.22.4)\n",
            "Requirement already satisfied: scipy>=1.3.2 in /usr/local/lib/python3.10/dist-packages (from scikit-learn) (1.10.1)\n",
            "Requirement already satisfied: joblib>=1.1.1 in /usr/local/lib/python3.10/dist-packages (from scikit-learn) (1.3.1)\n",
            "Requirement already satisfied: threadpoolctl>=2.0.0 in /usr/local/lib/python3.10/dist-packages (from scikit-learn) (3.2.0)\n"
          ]
        }
      ],
      "source": [
        "# install import necessary libraries\n",
        "\n",
        "import pandas as pd\n",
        "\n",
        "import pandas as pd\n",
        "import pickle\n",
        "\n",
        "# Import the pickle file from google drive\n",
        "from google.colab import drive\n",
        "!pip install scikit-learn\n",
        "from sklearn.feature_extraction.text import TfidfVectorizer\n",
        "\n",
        "\n",
        "\n",
        "\n"
      ]
    },
    {
      "cell_type": "code",
      "execution_count": 2,
      "metadata": {
        "colab": {
          "base_uri": "https://localhost:8080/"
        },
        "id": "KoEc7lJAEt1z",
        "outputId": "198b0042-8cdd-4935-e339-fef2a21c2c6f"
      },
      "outputs": [
        {
          "output_type": "stream",
          "name": "stdout",
          "text": [
            "Mounted at /content/drive\n"
          ]
        }
      ],
      "source": [
        "# Mount the google drive to collab\n",
        "drive.mount('/content/drive')\n",
        "\n",
        "\n"
      ]
    },
    {
      "cell_type": "code",
      "execution_count": null,
      "metadata": {
        "id": "2z8ZE4JpCXoS"
      },
      "outputs": [],
      "source": [
        "file_path = '/content/drive/MyDrive/Cleaned Suicide Detection_v3.pkl'\n",
        "\n",
        "\n",
        "# Open the pickle file in binary mode\n",
        "with open(file_path, 'rb') as f:\n",
        "    data = pickle.load(f)\n",
        "\n",
        "# Convert the loaded data into a DataFrame\n",
        "df = pd.DataFrame(data)\n",
        "\n",
        "\n"
      ]
    },
    {
      "cell_type": "code",
      "execution_count": null,
      "metadata": {
        "colab": {
          "base_uri": "https://localhost:8080/",
          "height": 503
        },
        "id": "LGNDii_FTKWZ",
        "outputId": "abd6b2bb-66a9-4fc6-a9fa-24ec7a619b1e"
      },
      "outputs": [
        {
          "data": {
            "text/html": [
              "\n",
              "\n",
              "  <div id=\"df-28a31e43-d9f8-43c6-a436-6f1f443ef5b7\">\n",
              "    <div class=\"colab-df-container\">\n",
              "      <div>\n",
              "<style scoped>\n",
              "    .dataframe tbody tr th:only-of-type {\n",
              "        vertical-align: middle;\n",
              "    }\n",
              "\n",
              "    .dataframe tbody tr th {\n",
              "        vertical-align: top;\n",
              "    }\n",
              "\n",
              "    .dataframe thead th {\n",
              "        text-align: right;\n",
              "    }\n",
              "</style>\n",
              "<table border=\"1\" class=\"dataframe\">\n",
              "  <thead>\n",
              "    <tr style=\"text-align: right;\">\n",
              "      <th></th>\n",
              "      <th>text</th>\n",
              "      <th>class</th>\n",
              "      <th>text_cleaned</th>\n",
              "      <th>len_text</th>\n",
              "      <th>len_text_cleaned</th>\n",
              "      <th>pos_tags</th>\n",
              "      <th>chunk_chink</th>\n",
              "    </tr>\n",
              "  </thead>\n",
              "  <tbody>\n",
              "    <tr>\n",
              "      <th>0</th>\n",
              "      <td>Ex Wife Threatening SuicideRecently I left my ...</td>\n",
              "      <td>suicide</td>\n",
              "      <td>former wife threatening suicide recently left ...</td>\n",
              "      <td>715</td>\n",
              "      <td>378</td>\n",
              "      <td>[(former, JJ), (wife, NN), (threatening, VBG),...</td>\n",
              "      <td>[[(former, JJ), (wife, NN)], [(threatening, VB...</td>\n",
              "    </tr>\n",
              "    <tr>\n",
              "      <th>1</th>\n",
              "      <td>Am I weird I don't get affected by compliments...</td>\n",
              "      <td>non-suicide</td>\n",
              "      <td>weird get affected compliment coming someone k...</td>\n",
              "      <td>138</td>\n",
              "      <td>94</td>\n",
              "      <td>[(weird, JJ), (get, NN), (affected, JJ), (comp...</td>\n",
              "      <td>[[(weird, JJ), (get, NN)], [(affected, JJ), (c...</td>\n",
              "    </tr>\n",
              "    <tr>\n",
              "      <th>2</th>\n",
              "      <td>Finally 2020 is almost over... So I can never ...</td>\n",
              "      <td>non-suicide</td>\n",
              "      <td>silence bad year ever swear fucking god annoying</td>\n",
              "      <td>129</td>\n",
              "      <td>48</td>\n",
              "      <td>[(finally, RB), (2020, CD), (almost, RB), (sil...</td>\n",
              "      <td>[(finally, RB), (2020, CD), (almost, RB), [(si...</td>\n",
              "    </tr>\n",
              "    <tr>\n",
              "      <th>3</th>\n",
              "      <td>i need helpjust help me im crying so hard</td>\n",
              "      <td>suicide</td>\n",
              "      <td>need help help cry</td>\n",
              "      <td>41</td>\n",
              "      <td>18</td>\n",
              "      <td>[(need, NN), (help, NN), (help, VB), (cry, VB)...</td>\n",
              "      <td>[[(need, NN)], [(help, NN)], [(help, VB)], [(c...</td>\n",
              "    </tr>\n",
              "    <tr>\n",
              "      <th>4</th>\n",
              "      <td>I’m so lostHello, my name is Adam (16) and I’v...</td>\n",
              "      <td>suicide</td>\n",
              "      <td>ism lost hello name struggling year ism past y...</td>\n",
              "      <td>2426</td>\n",
              "      <td>1369</td>\n",
              "      <td>[(ism, NN), (lost, VBD), (hello, JJ), (name, N...</td>\n",
              "      <td>[[(ism, NN)], [(lost, VBD)], [(hello, JJ), (na...</td>\n",
              "    </tr>\n",
              "  </tbody>\n",
              "</table>\n",
              "</div>\n",
              "      <button class=\"colab-df-convert\" onclick=\"convertToInteractive('df-28a31e43-d9f8-43c6-a436-6f1f443ef5b7')\"\n",
              "              title=\"Convert this dataframe to an interactive table.\"\n",
              "              style=\"display:none;\">\n",
              "\n",
              "  <svg xmlns=\"http://www.w3.org/2000/svg\" height=\"24px\"viewBox=\"0 0 24 24\"\n",
              "       width=\"24px\">\n",
              "    <path d=\"M0 0h24v24H0V0z\" fill=\"none\"/>\n",
              "    <path d=\"M18.56 5.44l.94 2.06.94-2.06 2.06-.94-2.06-.94-.94-2.06-.94 2.06-2.06.94zm-11 1L8.5 8.5l.94-2.06 2.06-.94-2.06-.94L8.5 2.5l-.94 2.06-2.06.94zm10 10l.94 2.06.94-2.06 2.06-.94-2.06-.94-.94-2.06-.94 2.06-2.06.94z\"/><path d=\"M17.41 7.96l-1.37-1.37c-.4-.4-.92-.59-1.43-.59-.52 0-1.04.2-1.43.59L10.3 9.45l-7.72 7.72c-.78.78-.78 2.05 0 2.83L4 21.41c.39.39.9.59 1.41.59.51 0 1.02-.2 1.41-.59l7.78-7.78 2.81-2.81c.8-.78.8-2.07 0-2.86zM5.41 20L4 18.59l7.72-7.72 1.47 1.35L5.41 20z\"/>\n",
              "  </svg>\n",
              "      </button>\n",
              "\n",
              "\n",
              "\n",
              "    <div id=\"df-132ce5f6-8444-4899-b81c-5424bb0e94c7\">\n",
              "      <button class=\"colab-df-quickchart\" onclick=\"quickchart('df-132ce5f6-8444-4899-b81c-5424bb0e94c7')\"\n",
              "              title=\"Suggest charts.\"\n",
              "              style=\"display:none;\">\n",
              "\n",
              "<svg xmlns=\"http://www.w3.org/2000/svg\" height=\"24px\"viewBox=\"0 0 24 24\"\n",
              "     width=\"24px\">\n",
              "    <g>\n",
              "        <path d=\"M19 3H5c-1.1 0-2 .9-2 2v14c0 1.1.9 2 2 2h14c1.1 0 2-.9 2-2V5c0-1.1-.9-2-2-2zM9 17H7v-7h2v7zm4 0h-2V7h2v10zm4 0h-2v-4h2v4z\"/>\n",
              "    </g>\n",
              "</svg>\n",
              "      </button>\n",
              "    </div>\n",
              "\n",
              "<style>\n",
              "  .colab-df-quickchart {\n",
              "    background-color: #E8F0FE;\n",
              "    border: none;\n",
              "    border-radius: 50%;\n",
              "    cursor: pointer;\n",
              "    display: none;\n",
              "    fill: #1967D2;\n",
              "    height: 32px;\n",
              "    padding: 0 0 0 0;\n",
              "    width: 32px;\n",
              "  }\n",
              "\n",
              "  .colab-df-quickchart:hover {\n",
              "    background-color: #E2EBFA;\n",
              "    box-shadow: 0px 1px 2px rgba(60, 64, 67, 0.3), 0px 1px 3px 1px rgba(60, 64, 67, 0.15);\n",
              "    fill: #174EA6;\n",
              "  }\n",
              "\n",
              "  [theme=dark] .colab-df-quickchart {\n",
              "    background-color: #3B4455;\n",
              "    fill: #D2E3FC;\n",
              "  }\n",
              "\n",
              "  [theme=dark] .colab-df-quickchart:hover {\n",
              "    background-color: #434B5C;\n",
              "    box-shadow: 0px 1px 3px 1px rgba(0, 0, 0, 0.15);\n",
              "    filter: drop-shadow(0px 1px 2px rgba(0, 0, 0, 0.3));\n",
              "    fill: #FFFFFF;\n",
              "  }\n",
              "</style>\n",
              "\n",
              "    <script>\n",
              "      async function quickchart(key) {\n",
              "        const containerElement = document.querySelector('#' + key);\n",
              "        const charts = await google.colab.kernel.invokeFunction(\n",
              "            'suggestCharts', [key], {});\n",
              "      }\n",
              "    </script>\n",
              "\n",
              "      <script>\n",
              "\n",
              "function displayQuickchartButton(domScope) {\n",
              "  let quickchartButtonEl =\n",
              "    domScope.querySelector('#df-132ce5f6-8444-4899-b81c-5424bb0e94c7 button.colab-df-quickchart');\n",
              "  quickchartButtonEl.style.display =\n",
              "    google.colab.kernel.accessAllowed ? 'block' : 'none';\n",
              "}\n",
              "\n",
              "        displayQuickchartButton(document);\n",
              "      </script>\n",
              "      <style>\n",
              "    .colab-df-container {\n",
              "      display:flex;\n",
              "      flex-wrap:wrap;\n",
              "      gap: 12px;\n",
              "    }\n",
              "\n",
              "    .colab-df-convert {\n",
              "      background-color: #E8F0FE;\n",
              "      border: none;\n",
              "      border-radius: 50%;\n",
              "      cursor: pointer;\n",
              "      display: none;\n",
              "      fill: #1967D2;\n",
              "      height: 32px;\n",
              "      padding: 0 0 0 0;\n",
              "      width: 32px;\n",
              "    }\n",
              "\n",
              "    .colab-df-convert:hover {\n",
              "      background-color: #E2EBFA;\n",
              "      box-shadow: 0px 1px 2px rgba(60, 64, 67, 0.3), 0px 1px 3px 1px rgba(60, 64, 67, 0.15);\n",
              "      fill: #174EA6;\n",
              "    }\n",
              "\n",
              "    [theme=dark] .colab-df-convert {\n",
              "      background-color: #3B4455;\n",
              "      fill: #D2E3FC;\n",
              "    }\n",
              "\n",
              "    [theme=dark] .colab-df-convert:hover {\n",
              "      background-color: #434B5C;\n",
              "      box-shadow: 0px 1px 3px 1px rgba(0, 0, 0, 0.15);\n",
              "      filter: drop-shadow(0px 1px 2px rgba(0, 0, 0, 0.3));\n",
              "      fill: #FFFFFF;\n",
              "    }\n",
              "  </style>\n",
              "\n",
              "      <script>\n",
              "        const buttonEl =\n",
              "          document.querySelector('#df-28a31e43-d9f8-43c6-a436-6f1f443ef5b7 button.colab-df-convert');\n",
              "        buttonEl.style.display =\n",
              "          google.colab.kernel.accessAllowed ? 'block' : 'none';\n",
              "\n",
              "        async function convertToInteractive(key) {\n",
              "          const element = document.querySelector('#df-28a31e43-d9f8-43c6-a436-6f1f443ef5b7');\n",
              "          const dataTable =\n",
              "            await google.colab.kernel.invokeFunction('convertToInteractive',\n",
              "                                                     [key], {});\n",
              "          if (!dataTable) return;\n",
              "\n",
              "          const docLinkHtml = 'Like what you see? Visit the ' +\n",
              "            '<a target=\"_blank\" href=https://colab.research.google.com/notebooks/data_table.ipynb>data table notebook</a>'\n",
              "            + ' to learn more about interactive tables.';\n",
              "          element.innerHTML = '';\n",
              "          dataTable['output_type'] = 'display_data';\n",
              "          await google.colab.output.renderOutput(dataTable, element);\n",
              "          const docLink = document.createElement('div');\n",
              "          docLink.innerHTML = docLinkHtml;\n",
              "          element.appendChild(docLink);\n",
              "        }\n",
              "      </script>\n",
              "    </div>\n",
              "  </div>\n"
            ],
            "text/plain": [
              "                                                text        class  \\\n",
              "0  Ex Wife Threatening SuicideRecently I left my ...      suicide   \n",
              "1  Am I weird I don't get affected by compliments...  non-suicide   \n",
              "2  Finally 2020 is almost over... So I can never ...  non-suicide   \n",
              "3          i need helpjust help me im crying so hard      suicide   \n",
              "4  I’m so lostHello, my name is Adam (16) and I’v...      suicide   \n",
              "\n",
              "                                        text_cleaned  len_text  \\\n",
              "0  former wife threatening suicide recently left ...       715   \n",
              "1  weird get affected compliment coming someone k...       138   \n",
              "2   silence bad year ever swear fucking god annoying       129   \n",
              "3                                 need help help cry        41   \n",
              "4  ism lost hello name struggling year ism past y...      2426   \n",
              "\n",
              "   len_text_cleaned                                           pos_tags  \\\n",
              "0               378  [(former, JJ), (wife, NN), (threatening, VBG),...   \n",
              "1                94  [(weird, JJ), (get, NN), (affected, JJ), (comp...   \n",
              "2                48  [(finally, RB), (2020, CD), (almost, RB), (sil...   \n",
              "3                18  [(need, NN), (help, NN), (help, VB), (cry, VB)...   \n",
              "4              1369  [(ism, NN), (lost, VBD), (hello, JJ), (name, N...   \n",
              "\n",
              "                                         chunk_chink  \n",
              "0  [[(former, JJ), (wife, NN)], [(threatening, VB...  \n",
              "1  [[(weird, JJ), (get, NN)], [(affected, JJ), (c...  \n",
              "2  [(finally, RB), (2020, CD), (almost, RB), [(si...  \n",
              "3  [[(need, NN)], [(help, NN)], [(help, VB)], [(c...  \n",
              "4  [[(ism, NN)], [(lost, VBD)], [(hello, JJ), (na...  "
            ]
          },
          "execution_count": 4,
          "metadata": {},
          "output_type": "execute_result"
        }
      ],
      "source": [
        "df.head()"
      ]
    },
    {
      "cell_type": "code",
      "execution_count": null,
      "metadata": {
        "colab": {
          "base_uri": "https://localhost:8080/"
        },
        "id": "CczImZoNJ9jN",
        "outputId": "8ebc0c7c-c115-4ceb-9efe-0efc1334fc88"
      },
      "outputs": [
        {
          "name": "stdout",
          "output_type": "stream",
          "text": [
            "(139243,) (46415,) (46415,)\n",
            "Train\n",
            " 64811            salmon ling platoon trailer want pet right\n",
            "26585     anyone geddit trouble logging geddit christ se...\n",
            "87417     feeling silence think let suicide day born kne...\n",
            "212624    autism valid reason kill autistic woman nobody...\n",
            "56128     wish cowardice tendency end life think little ...\n",
            "Name: text_cleaned, dtype: object\n",
            "\n",
            "Validation\n",
            " 30466     done shit come lesbian gay bisexual transsexua...\n",
            "220635    dying scared always thought ending college fac...\n",
            "135297    need advice hello life bad happy couple friend...\n",
            "55524     hey everybody need editor help guy friend kind...\n",
            "158304    want work anymore depressed suicidal decade ne...\n",
            "Name: text_cleaned, dtype: object\n",
            "\n",
            "Test\n",
            " 74414     month harm free urge get every day day shit si...\n",
            "149516    start becoming rich start company become affor...\n",
            "12484     poem haiku game dev hello hello stop fucking s...\n",
            "14043     honestly got no idea anymore feel everyone fak...\n",
            "30673     ever cry think unfair life cry cry ever sit an...\n",
            "Name: text_cleaned, dtype: object\n"
          ]
        }
      ],
      "source": [
        "from sklearn.model_selection import train_test_split\n",
        "\n",
        "\n",
        "\n",
        "# Split the data into train and test sets\n",
        "X_train, X_test, y_train, y_test = train_test_split(df['text_cleaned'], df['class'], test_size=0.2, random_state=42)\n",
        "\n",
        "# Further split the train set into train and validation sets\n",
        "X_train, X_val, y_train, y_val = train_test_split(X_train, y_train, test_size=0.25, random_state=42)\n",
        "\n",
        "print(X_train.shape, X_val.shape, X_test.shape)\n",
        "\n",
        "print(\"Train\\n\", X_train.head(5))\n",
        "\n",
        "\n",
        "print(\"\\nValidation\\n\", X_val.head(5))\n",
        "\n",
        "\n",
        "print(\"\\nTest\\n\", X_test.head(5))\n"
      ]
    },
    {
      "cell_type": "code",
      "execution_count": null,
      "metadata": {
        "colab": {
          "base_uri": "https://localhost:8080/"
        },
        "id": "eoqiBUYOKJ80",
        "outputId": "c3eb4d9a-cbde-4766-e5bd-1051f2832633"
      },
      "outputs": [
        {
          "name": "stdout",
          "output_type": "stream",
          "text": [
            "   abandon  abandoned  abandonment  ability      able  abortion  abroad  \\\n",
            "0      0.0        0.0          0.0      0.0  0.000000       0.0     0.0   \n",
            "1      0.0        0.0          0.0      0.0  0.000000       0.0     0.0   \n",
            "2      0.0        0.0          0.0      0.0  0.000000       0.0     0.0   \n",
            "3      0.0        0.0          0.0      0.0  0.000000       0.0     0.0   \n",
            "4      0.0        0.0          0.0      0.0  0.162585       0.0     0.0   \n",
            "\n",
            "   absence  absolute  absolutely  ...  younger  youth  youtu  youtube  \\\n",
            "0      0.0       0.0         0.0  ...      0.0    0.0    0.0      0.0   \n",
            "1      0.0       0.0         0.0  ...      0.0    0.0    0.0      0.0   \n",
            "2      0.0       0.0         0.0  ...      0.0    0.0    0.0      0.0   \n",
            "3      0.0       0.0         0.0  ...      0.0    0.0    0.0      0.0   \n",
            "4      0.0       0.0         0.0  ...      0.0    0.0    0.0      0.0   \n",
            "\n",
            "   youtubealternative  zero  zoloft  zombie  zone  zoom  \n",
            "0                 0.0   0.0     0.0     0.0   0.0   0.0  \n",
            "1                 0.0   0.0     0.0     0.0   0.0   0.0  \n",
            "2                 0.0   0.0     0.0     0.0   0.0   0.0  \n",
            "3                 0.0   0.0     0.0     0.0   0.0   0.0  \n",
            "4                 0.0   0.0     0.0     0.0   0.0   0.0  \n",
            "\n",
            "[5 rows x 3714 columns]\n",
            "   abandon  abandoned  abandonment  ability  able  abortion  abroad  absence  \\\n",
            "0      0.0        0.0          0.0      0.0   0.0       0.0     0.0      0.0   \n",
            "1      0.0        0.0          0.0      0.0   0.0       0.0     0.0      0.0   \n",
            "2      0.0        0.0          0.0      0.0   0.0       0.0     0.0      0.0   \n",
            "3      0.0        0.0          0.0      0.0   0.0       0.0     0.0      0.0   \n",
            "4      0.0        0.0          0.0      0.0   0.0       0.0     0.0      0.0   \n",
            "\n",
            "   absolute  absolutely  ...  younger  youth  youtu  youtube  \\\n",
            "0       0.0         0.0  ...      0.0    0.0    0.0      0.0   \n",
            "1       0.0         0.0  ...      0.0    0.0    0.0      0.0   \n",
            "2       0.0         0.0  ...      0.0    0.0    0.0      0.0   \n",
            "3       0.0         0.0  ...      0.0    0.0    0.0      0.0   \n",
            "4       0.0         0.0  ...      0.0    0.0    0.0      0.0   \n",
            "\n",
            "   youtubealternative  zero  zoloft  zombie  zone  zoom  \n",
            "0                 0.0   0.0     0.0     0.0   0.0   0.0  \n",
            "1                 0.0   0.0     0.0     0.0   0.0   0.0  \n",
            "2                 0.0   0.0     0.0     0.0   0.0   0.0  \n",
            "3                 0.0   0.0     0.0     0.0   0.0   0.0  \n",
            "4                 0.0   0.0     0.0     0.0   0.0   0.0  \n",
            "\n",
            "[5 rows x 3714 columns]\n",
            "   abandon  abandoned  abandonment  ability  able  abortion  abroad  absence  \\\n",
            "0      0.0        0.0          0.0      0.0   0.0       0.0     0.0      0.0   \n",
            "1      0.0        0.0          0.0      0.0   0.0       0.0     0.0      0.0   \n",
            "2      0.0        0.0          0.0      0.0   0.0       0.0     0.0      0.0   \n",
            "3      0.0        0.0          0.0      0.0   0.0       0.0     0.0      0.0   \n",
            "4      0.0        0.0          0.0      0.0   0.0       0.0     0.0      0.0   \n",
            "\n",
            "   absolute  absolutely  ...  younger  youth  youtu  youtube  \\\n",
            "0       0.0         0.0  ...      0.0    0.0    0.0      0.0   \n",
            "1       0.0         0.0  ...      0.0    0.0    0.0      0.0   \n",
            "2       0.0         0.0  ...      0.0    0.0    0.0      0.0   \n",
            "3       0.0         0.0  ...      0.0    0.0    0.0      0.0   \n",
            "4       0.0         0.0  ...      0.0    0.0    0.0      0.0   \n",
            "\n",
            "   youtubealternative  zero  zoloft  zombie  zone  zoom  \n",
            "0                 0.0   0.0     0.0     0.0   0.0   0.0  \n",
            "1                 0.0   0.0     0.0     0.0   0.0   0.0  \n",
            "2                 0.0   0.0     0.0     0.0   0.0   0.0  \n",
            "3                 0.0   0.0     0.0     0.0   0.0   0.0  \n",
            "4                 0.0   0.0     0.0     0.0   0.0   0.0  \n",
            "\n",
            "[5 rows x 3714 columns]\n"
          ]
        }
      ],
      "source": [
        " # Import the TfidfVectorizer\n",
        "from sklearn.feature_extraction.text import TfidfVectorizer\n",
        "\n",
        "\n",
        "# Initialize the TfidfVectorizer\n",
        "vectorizer = TfidfVectorizer(min_df=0.001)  # Set the minimum threshold to 1/1000\n",
        "train_corpus = X_train.tolist()\n",
        "val_corpus = X_val.tolist()\n",
        "test_corpus = X_test.tolist()\n",
        "\n",
        "#Fit and transform the training corpus using TF-IDF\n",
        "X_train_tfidf = vectorizer.fit_transform(train_corpus)\n",
        "\n",
        "\n",
        "# Transform the validation and test corpus using the learned vocabulary from training\n",
        "X_val_tfidf = vectorizer.transform(val_corpus)\n",
        "X_test_tfidf = vectorizer.transform(test_corpus)\n",
        "\n",
        "# Convert the transformed data to DataFrames (optional)\n",
        "df_train_tfidf = pd.DataFrame(X_train_tfidf.toarray(), columns=vectorizer.get_feature_names_out())\n",
        "df_val_tfidf = pd.DataFrame(X_val_tfidf.toarray(), columns=vectorizer.get_feature_names_out())\n",
        "df_test_tfidf = pd.DataFrame(X_test_tfidf.toarray(), columns=vectorizer.get_feature_names_out())\n",
        "\n",
        "df_y_train = y_train.to_frame()\n",
        "df_y_val = y_val.to_frame()\n",
        "df_y_test = y_test.to_frame()\n",
        "\n",
        "\n",
        "\n",
        "\n",
        "print(df_train_tfidf.head(5))\n",
        "print(df_val_tfidf.head(5))\n",
        "print(df_test_tfidf.head(5))\n"
      ]
    },
    {
      "cell_type": "code",
      "execution_count": null,
      "metadata": {
        "id": "k5rO7j_calDr"
      },
      "outputs": [],
      "source": [
        "\n",
        "import pickle\n",
        "\n",
        "df_train_tfidf.to_pickle('/content/drive/MyDrive/X_train_tfidf.pkl')\n",
        "df_val_tfidf.to_pickle('/content/drive/MyDrive/X_val_tfidf.pkl')\n",
        "df_test_tfidf.to_pickle('/content/drive/MyDrive/X_test_tfidf.pkl')\n",
        "\n",
        "df_y_train.to_pickle('/content/drive/MyDrive/y_train.pkl')\n",
        "df_y_test.to_pickle('/content/drive/MyDrive/y_test.pkl')\n",
        "df_y_val.to_pickle('/content/drive/MyDrive/y_val.pkl')\n",
        "\n"
      ]
    },
    {
      "cell_type": "code",
      "execution_count": 3,
      "metadata": {
        "id": "Ua4v7A-WbfIU"
      },
      "outputs": [],
      "source": [
        "import pickle\n",
        "\n",
        "file_path_train = '/content/drive/MyDrive/X_train_tfidf.pkl'\n",
        "file_path_val = '/content/drive/MyDrive/X_val_tfidf.pkl'\n",
        "file_path_test = '/content/drive/MyDrive/X_test_tfidf.pkl'\n",
        "\n",
        "\n",
        "# Import training TF-IDF vector\n",
        "with open(file_path_train, 'rb') as file:\n",
        "    data = pickle.load(file)\n",
        "df_train_tfidf = pd.DataFrame(data)\n",
        "\n",
        "# Import validation TF-IDF vector\n",
        "with open(file_path_val, 'rb') as file:\n",
        "    data = pickle.load(file)\n",
        "df_val_tfidf = pd.DataFrame(data)\n",
        "\n",
        "# Import test TF-IDF vector\n",
        "with open(file_path_test, 'rb') as file:\n",
        "    data = pickle.load(file)\n",
        "df_test_tfidf = pd.DataFrame(data)\n",
        "\n",
        "\n",
        "\n",
        "\n"
      ]
    },
    {
      "cell_type": "code",
      "execution_count": 4,
      "metadata": {
        "id": "VJsiUrikhUfz"
      },
      "outputs": [],
      "source": [
        "file_path_y_train = '/content/drive/MyDrive/y_train.pkl'\n",
        "file_path_y_val = '/content/drive/MyDrive/y_val.pkl'\n",
        "file_path_y_test = '/content/drive/MyDrive/y_test.pkl'\n",
        "\n",
        "\n",
        "# Import training Y  data\n",
        "with open(file_path_y_train, 'rb') as file:\n",
        "    data = pickle.load(file)\n",
        "df_y_train = pd.DataFrame(data)\n",
        "\n",
        "# Import validation Y data\n",
        "with open(file_path_y_val, 'rb') as file:\n",
        "    data = pickle.load(file)\n",
        "df_y_val = pd.DataFrame(data)\n",
        "\n",
        "# Import test Y data\n",
        "with open(file_path_y_test, 'rb') as file:\n",
        "    data = pickle.load(file)\n",
        "df_y_test = pd.DataFrame(data)\n",
        "\n",
        "\n",
        "del data"
      ]
    },
    {
      "cell_type": "code",
      "execution_count": 5,
      "metadata": {
        "id": "0vKAdlaahL5s"
      },
      "outputs": [],
      "source": [
        "X_train_tfidf = df_train_tfidf.values\n",
        "X_val_tfidf = df_val_tfidf.values\n",
        "X_test_tfidf = df_test_tfidf.values\n",
        "\n",
        "y_train = df_y_train.values.ravel()\n",
        "y_val = df_y_val.values.ravel()\n",
        "y_test = df_y_test.values.ravel()\n",
        "\n",
        "\n",
        "del df_train_tfidf\n",
        "del df_val_tfidf\n",
        "del df_test_tfidf\n",
        "\n",
        "del df_y_train\n",
        "del df_y_val\n",
        "del df_y_test\n",
        "\n"
      ]
    },
    {
      "cell_type": "code",
      "execution_count": null,
      "metadata": {
        "colab": {
          "base_uri": "https://localhost:8080/"
        },
        "id": "8AyxmEic3D5I",
        "outputId": "2e129ef3-a351-4040-8039-5ec632d39add"
      },
      "outputs": [
        {
          "output_type": "execute_result",
          "data": {
            "text/plain": [
              "0"
            ]
          },
          "metadata": {},
          "execution_count": 6
        }
      ],
      "source": [
        "import gc\n",
        "gc.collect()"
      ]
    },
    {
      "cell_type": "code",
      "execution_count": null,
      "metadata": {
        "colab": {
          "base_uri": "https://localhost:8080/"
        },
        "id": "8im6lIMcI4SH",
        "outputId": "0777aad5-f040-48d1-bacf-500460baa844"
      },
      "outputs": [
        {
          "output_type": "stream",
          "name": "stdout",
          "text": [
            "LogisticRegression Accuracy: 0.9257352149089734\n",
            "LogisticRegression Classification Report:\n",
            "              precision    recall  f1-score   support\n",
            "\n",
            " non-suicide       0.92      0.94      0.93     23248\n",
            "     suicide       0.94      0.91      0.92     23167\n",
            "\n",
            "    accuracy                           0.93     46415\n",
            "   macro avg       0.93      0.93      0.93     46415\n",
            "weighted avg       0.93      0.93      0.93     46415\n",
            "\n",
            "LogisticRegression Probabilities:\n",
            "(46415, 2)\n",
            "0.061186760881276725 0.9388132391187233\n",
            "0.7399892657082612 0.2600107342917388\n"
          ]
        }
      ],
      "source": [
        "from sklearn.linear_model import LogisticRegression\n",
        "from sklearn.metrics import accuracy_score, classification_report\n",
        "\n",
        "# Model training\n",
        "logreg = LogisticRegression()\n",
        "logreg.fit(X_train_tfidf, y_train)\n",
        "\n",
        "# Predict on the test set\n",
        "y_pred = logreg.predict(X_test_tfidf)\n",
        "probabilities = logreg.predict_proba(X_test_tfidf)\n",
        "\n",
        "\n",
        "\n",
        "# Evaluation Test accuracy\n",
        "accuracy = accuracy_score(y_test, y_pred)\n",
        "classification_report = classification_report(y_test, y_pred)\n",
        "\n",
        "print(\"LogisticRegression Accuracy:\", accuracy)\n",
        "print(\"LogisticRegression Classification Report:\")\n",
        "print(classification_report)\n",
        "\n",
        "\n",
        "print(\"LogisticRegression Probabilities:\")\n",
        "\n",
        "print(probabilities.shape)\n",
        "print(probabilities[0][0], probabilities[0][1])\n",
        "print(probabilities[1][0], probabilities[1][1])\n",
        "\n",
        "\n"
      ]
    },
    {
      "cell_type": "code",
      "source": [
        "from sklearn.ensemble import GradientBoostingClassifier\n",
        "\n",
        "from sklearn.metrics import accuracy_score, classification_report\n",
        "\n",
        "# Initialize the GradientBoostingClassifier\n",
        "gbc = GradientBoostingClassifier()\n",
        "\n",
        "# Fit the model to the training data\n",
        "gbc.fit(X_train_tfidf, y_train)\n",
        "\n",
        "# Make predictions on the test data\n",
        "y_pred = gbc.predict(X_test_tfidf)\n",
        "probabilities = gbc.predict_proba(X_test_tfidf)\n",
        "\n",
        "# Evaluate the model\n",
        "accuracy = accuracy_score(y_test, y_pred)\n",
        "classification_report = classification_report(y_test, y_pred)\n",
        "\n",
        "print(\"GradientBoostingClassifier Accuracy:\", accuracy)\n",
        "print(\"GradientBoostingClassifier Classification Report:\")\n",
        "print(classification_report)\n",
        "\n",
        "print(probabilities.shape)\n",
        "print(probabilities[0][0], probabilities[0][1])\n",
        "print(probabilities[1][0], probabilities[1][1])"
      ],
      "metadata": {
        "colab": {
          "base_uri": "https://localhost:8080/"
        },
        "id": "PbpF7tkCtB3S",
        "outputId": "d7a9685a-c6c8-4093-f926-3ee67aa79f75"
      },
      "execution_count": null,
      "outputs": [
        {
          "output_type": "stream",
          "name": "stdout",
          "text": [
            "GradientBoostingClassifier Accuracy: 0.8739416137024669\n",
            "GradientBoostingClassifier Classification Report:\n",
            "              precision    recall  f1-score   support\n",
            "\n",
            " non-suicide       0.84      0.92      0.88     23248\n",
            "     suicide       0.91      0.83      0.87     23167\n",
            "\n",
            "    accuracy                           0.87     46415\n",
            "   macro avg       0.88      0.87      0.87     46415\n",
            "weighted avg       0.88      0.87      0.87     46415\n",
            "\n",
            "(46415, 2)\n",
            "0.04733263824422518 0.9526673617557748\n",
            "0.7906217809622658 0.20937821903773418\n"
          ]
        }
      ]
    },
    {
      "cell_type": "code",
      "source": [
        "\n",
        "gc.collect()"
      ],
      "metadata": {
        "colab": {
          "base_uri": "https://localhost:8080/"
        },
        "id": "b_LEfDc252Ob",
        "outputId": "0f00411b-161e-42a0-d384-ce54b7f00a44"
      },
      "execution_count": null,
      "outputs": [
        {
          "output_type": "execute_result",
          "data": {
            "text/plain": [
              "27"
            ]
          },
          "metadata": {},
          "execution_count": 9
        }
      ]
    },
    {
      "cell_type": "code",
      "execution_count": null,
      "metadata": {
        "colab": {
          "base_uri": "https://localhost:8080/"
        },
        "id": "Wi66WH7ea811",
        "outputId": "9ea4de88-e915-4218-a629-22b971dfb21e"
      },
      "outputs": [
        {
          "output_type": "stream",
          "name": "stdout",
          "text": [
            "RandomForestClassifier Accuracy: 0.8986749973069051\n",
            "RandomForestClassifier Classification Report:\n",
            "              precision    recall  f1-score   support\n",
            "\n",
            " non-suicide       0.91      0.88      0.90     23248\n",
            "     suicide       0.89      0.91      0.90     23167\n",
            "\n",
            "    accuracy                           0.90     46415\n",
            "   macro avg       0.90      0.90      0.90     46415\n",
            "weighted avg       0.90      0.90      0.90     46415\n",
            "\n",
            "(46415, 2)\n",
            "0.09 0.91\n",
            "0.73 0.27\n"
          ]
        }
      ],
      "source": [
        "# Import the RandomForestClassifier\n",
        "from sklearn.ensemble import RandomForestClassifier\n",
        "from sklearn.metrics import accuracy_score, classification_report\n",
        "\n",
        "\n",
        "\n",
        "# Initialize the RandomForestClassifier with split criterian hyperparameter as default=gini\n",
        "# choosing max_feature value (random feature split as ) None which is default\n",
        "rf_1 = RandomForestClassifier()\n",
        "\n",
        "# Fit the model to the training data\n",
        "rf_1.fit(X_train_tfidf, y_train)\n",
        "\n",
        "\n",
        "\n",
        "# Make predictions on the test data\n",
        "y_pred_1 = rf_1.predict(X_test_tfidf)\n",
        "probabilities_1 = rf_1.predict_proba(X_test_tfidf)\n",
        "\n",
        "# Evaluate the model\n",
        "accuracy_1 = accuracy_score(y_test, y_pred_1)\n",
        "classification_report_1 = classification_report(y_test, y_pred_1)\n",
        "\n",
        "print(\"RandomForestClassifier Accuracy:\", accuracy_1)\n",
        "print(\"RandomForestClassifier Classification Report:\")\n",
        "print(classification_report_1)\n",
        "\n",
        "print(probabilities_1.shape)\n",
        "print(probabilities_1[0][0], probabilities_1[0][1])\n",
        "print(probabilities_1[1][0], probabilities_1[1][1])\n",
        "\n",
        "\n",
        "\n"
      ]
    },
    {
      "cell_type": "code",
      "source": [
        "import numpy as np\n",
        "import matplotlib.pyplot as plt\n",
        "\n",
        "#Get the feature inportance\n",
        "\n",
        "feature_importance_1 = rf_1.feature_importances_\n",
        "\n",
        "# Sort the features by importance in descending order and pick top 10\n",
        "\n",
        "\n",
        "top_10_indices_1 = np.argsort(feature_importance_1)[::-1][:10]\n",
        "top_10_importance_1 = feature_importance_1[top_10_indices_1]\n",
        "\n",
        "print(top_10_importance_1)\n",
        "\n",
        "#plot the feature importances using matplotlib\n",
        "\n",
        "plt.figure(figsize=(10, 6))\n",
        "plt.bar(range(10), top_10_importance_1, align=\"center\")\n",
        "plt.xticks(range(10), top_10_indices_1)\n",
        "plt.xlabel(\"Feature Index\")\n",
        "plt.ylabel(\"Feature Importance\")\n",
        "plt.title(\"Top 10 Feature Importance from RandomForestClassifier\")\n",
        "plt.show()\n",
        "\n",
        "\n",
        "gc.collect()"
      ],
      "metadata": {
        "colab": {
          "base_uri": "https://localhost:8080/",
          "height": 603
        },
        "id": "ZiZO8z0I54du",
        "outputId": "9603c54b-aad7-4ea8-f756-7fe32a9f5e32"
      },
      "execution_count": null,
      "outputs": [
        {
          "output_type": "stream",
          "name": "stdout",
          "text": [
            "[0.03047334 0.02996375 0.02775211 0.02264863 0.02046358 0.01988804\n",
            " 0.01947139 0.01390003 0.01368158 0.0129312 ]\n"
          ]
        },
        {
          "output_type": "display_data",
          "data": {
            "text/plain": [
              "<Figure size 1000x600 with 1 Axes>"
            ],
            "image/png": "[encoded data removed]"
          },
          "metadata": {}
        },
        {
          "output_type": "execute_result",
          "data": {
            "text/plain": [
              "4152"
            ]
          },
          "metadata": {},
          "execution_count": 28
        }
      ]
    },
    {
      "cell_type": "code",
      "execution_count": 6,
      "metadata": {
        "colab": {
          "base_uri": "https://localhost:8080/"
        },
        "id": "JsHYXdmxQfUW",
        "outputId": "b5fcc368-9dc1-4a74-9966-de6098738674"
      },
      "outputs": [
        {
          "output_type": "stream",
          "name": "stdout",
          "text": [
            "['non-suicide' 'suicide']\n",
            "2\n",
            "RandomForestClassifier Accuracy: 0.899622966713347\n",
            "RandomForestClassifier Classification Report:\n",
            "              precision    recall  f1-score   support\n",
            "\n",
            " non-suicide       0.90      0.89      0.90     23248\n",
            "     suicide       0.89      0.91      0.90     23167\n",
            "\n",
            "    accuracy                           0.90     46415\n",
            "   macro avg       0.90      0.90      0.90     46415\n",
            "weighted avg       0.90      0.90      0.90     46415\n",
            "\n",
            "(46415, 2)\n",
            "0.09 0.91\n",
            "0.78 0.22\n"
          ]
        }
      ],
      "source": [
        "#Random classifier model with updated hyper params\n",
        "\n",
        "# Import the RandomForestClassifier\n",
        "from sklearn.ensemble import RandomForestClassifier\n",
        "from sklearn.metrics import accuracy_score, classification_report\n",
        "\n",
        "\n",
        "# Initialize the RandomForestClassifier with split criterian as entropy\n",
        "# choosing max_feature value (random feature split as ) sqrt which is good for classification problem\n",
        "rf_2 = RandomForestClassifier(criterion='entropy', max_features='sqrt')\n",
        "\n",
        "\n",
        "# Fit the model to the training data\n",
        "rf_2.fit(X_train_tfidf, y_train)\n",
        "\n",
        "\n",
        "# Make predictions on the test data\n",
        "y_pred_2 = rf_2.predict(X_test_tfidf)\n",
        "probabilities_2 = rf_2.predict_proba(X_test_tfidf)\n",
        "print(rf_2.classes_)\n",
        "print(rf_2.n_classes_)\n",
        "\n",
        "\n",
        "\n",
        "# Make predictions on the val data\n",
        "y_pred_val_2 = rf_2.predict(X_val_tfidf)\n",
        "probabilities_2_val = rf_2.predict_proba(X_val_tfidf)\n",
        "\n",
        "\n",
        "# Evaluate the model\n",
        "accuracy_2 = accuracy_score(y_test, y_pred_2)\n",
        "classification_report_2 = classification_report(y_test, y_pred_2)\n",
        "\n",
        "print(\"RandomForestClassifier Accuracy:\", accuracy_2)\n",
        "print(\"RandomForestClassifier Classification Report:\")\n",
        "print(classification_report_2)\n",
        "\n",
        "print(probabilities_2.shape)\n",
        "print(probabilities_2[0][0], probabilities_2[0][1])\n",
        "print(probabilities_2[1][0], probabilities_2[1][1])\n",
        "\n",
        "\n",
        "\n"
      ]
    },
    {
      "cell_type": "code",
      "source": [
        "import numpy as np\n",
        "import matplotlib.pyplot as plt\n",
        "\n",
        "#Get the feature inportance\n",
        "\n",
        "feature_importance_2 = rf_2.feature_importances_\n",
        "\n",
        "# Sort the features by importance in descending order and pick top 10\n",
        "\n",
        "\n",
        "top_10_indices_2 = np.argsort(feature_importance_2)[::-1][:10]\n",
        "top_10_importance_2 = feature_importance_2[top_10_indices_2]\n",
        "\n",
        "print(top_10_importance_2)\n",
        "\n",
        "#plot the feature importances using matplotlib\n",
        "\n",
        "plt.figure(figsize=(10, 6))\n",
        "plt.bar(range(10), top_10_importance_2, align=\"center\")\n",
        "plt.xticks(range(10), top_10_indices_2)\n",
        "plt.xlabel(\"Feature Index\")\n",
        "plt.ylabel(\"Feature Importance\")\n",
        "plt.title(\"Top 10 Feature Importance from RandomForestClassifier\")\n",
        "plt.show()\n",
        "\n",
        "\n"
      ],
      "metadata": {
        "colab": {
          "base_uri": "https://localhost:8080/",
          "height": 598
        },
        "id": "R8llqlqkIRRB",
        "outputId": "787c6dfb-6e33-4d47-f21d-761a0bf2e13f"
      },
      "execution_count": 7,
      "outputs": [
        {
          "output_type": "stream",
          "name": "stdout",
          "text": [
            "[0.03073717 0.02751977 0.02492805 0.02378205 0.02102861 0.01916478\n",
            " 0.0171329  0.0144751  0.01312423 0.01202177]\n"
          ]
        },
        {
          "output_type": "display_data",
          "data": {
            "text/plain": [
              "<Figure size 1000x600 with 1 Axes>"
            ],
            "image/png": "[encoded data removed]"
          },
          "metadata": {}
        }
      ]
    },
    {
      "cell_type": "code",
      "execution_count": null,
      "metadata": {
        "colab": {
          "base_uri": "https://localhost:8080/"
        },
        "id": "3WaAhskJUlOF",
        "outputId": "eb443752-c711-478e-df13-2b30451e71ab"
      },
      "outputs": [
        {
          "output_type": "stream",
          "name": "stdout",
          "text": [
            "RandomForestClassifier Accuracy: 0.8929225465905418\n",
            "RandomForestClassifier Classification Report:\n",
            "              precision    recall  f1-score   support\n",
            "\n",
            " non-suicide       0.89      0.90      0.89     23248\n",
            "     suicide       0.89      0.89      0.89     23167\n",
            "\n",
            "    accuracy                           0.89     46415\n",
            "   macro avg       0.89      0.89      0.89     46415\n",
            "weighted avg       0.89      0.89      0.89     46415\n",
            "\n",
            "(46415, 2)\n",
            "0.01 0.99\n",
            "0.88 0.12\n"
          ]
        }
      ],
      "source": [
        "#Random classifier model with updated hyper params\n",
        "\n",
        "# Import the RandomForestClassifier\n",
        "from sklearn.ensemble import RandomForestClassifier\n",
        "from sklearn.metrics import accuracy_score, classification_report\n",
        "\n",
        "\n",
        "# Initialize the RandomForestClassifier with split criterian as entropy\n",
        "# choosing max_feature value (random feature split as ) sqrt which is good fro classification problem\n",
        "rf_3 = RandomForestClassifier(criterion='entropy', max_features=0.2)\n",
        "\n",
        "\n",
        "# Fit the model to the training data\n",
        "rf_3.fit(X_train_tfidf, y_train)\n",
        "\n",
        "\n",
        "\n",
        "# Make predictions on the test data\n",
        "y_pred_3 = rf_3.predict(X_test_tfidf)\n",
        "probabilities_3 = rf_3.predict_proba(X_test_tfidf)\n",
        "\n",
        "# Evaluate the model\n",
        "accuracy_3 = accuracy_score(y_test, y_pred_3)\n",
        "classification_report_3 = classification_report(y_test, y_pred_3)\n",
        "\n",
        "print(\"RandomForestClassifier Accuracy:\", accuracy_3)\n",
        "print(\"RandomForestClassifier Classification Report:\")\n",
        "print(classification_report_3)\n",
        "\n",
        "print(probabilities_3.shape)\n",
        "print(probabilities_3[0][0], probabilities_3[0][1])\n",
        "print(probabilities_3[1][0], probabilities_3[1][1])\n",
        "\n",
        "\n",
        "\n"
      ]
    },
    {
      "cell_type": "code",
      "source": [
        "import numpy as np\n",
        "import matplotlib.pyplot as plt\n",
        "\n",
        "#Get the feature inportance\n",
        "\n",
        "feature_importance_3 = rf_3.feature_importances_\n",
        "\n",
        "# Sort the features by importance in descending order and pick top 10\n",
        "\n",
        "\n",
        "top_10_indices_3 = np.argsort(feature_importance_3)[::-1][:10]\n",
        "top_10_importance_3 = feature_importance_3[top_10_indices_3]\n",
        "\n",
        "print(top_10_importance_3)\n",
        "\n",
        "#plot the feature importances using matplotlib\n",
        "\n",
        "plt.figure(figsize=(10, 6))\n",
        "plt.bar(range(10), top_10_importance_3, align=\"center\")\n",
        "plt.xticks(range(10), top_10_indices_3)\n",
        "plt.xlabel(\"Feature Index\")\n",
        "plt.ylabel(\"Feature Importance\")\n",
        "plt.title(\"Top 10 Feature Importance from RandomForestClassifier\")\n",
        "plt.show()\n"
      ],
      "metadata": {
        "colab": {
          "base_uri": "https://localhost:8080/",
          "height": 591
        },
        "id": "Tm9mR1jXI4nL",
        "outputId": "dd9e315b-5def-490e-c175-821cbbd490fe"
      },
      "execution_count": null,
      "outputs": [
        {
          "output_type": "stream",
          "name": "stdout",
          "text": [
            "[0.08962977 0.05685851 0.05322374 0.04666449 0.04232248 0.03707692\n",
            " 0.02665895 0.02095362 0.02010236 0.01890916]\n"
          ]
        },
        {
          "output_type": "display_data",
          "data": {
            "text/plain": [
              "<Figure size 1000x600 with 1 Axes>"
            ],
            "image/png": "[encoded data removed]"
          },
          "metadata": {}
        }
      ]
    },
    {
      "cell_type": "code",
      "source": [
        "import numpy as np\n",
        "\n",
        "filename = \"/content/drive/MyDrive/probabilities_test.csv\"\n",
        "filename_val = \"/content/drive/MyDrive/probabilities_val.csv\"\n",
        "\n",
        "# Use np.savetxt() to save the NumPy array to a CSV file\n",
        "np.savetxt(filename, probabilities_2, delimiter=\",\")\n",
        "np.savetxt(filename_val, probabilities_2_val, delimiter=\",\")"
      ],
      "metadata": {
        "id": "bIcemo1ok2fK"
      },
      "execution_count": 8,
      "outputs": []
    }
  ],
  "metadata": {
    "colab": {
      "machine_shape": "hm",
      "provenance": []
    },
    "kernelspec": {
      "display_name": "Python 3",
      "name": "python3"
    },
    "language_info": {
      "name": "python"
    }
  },
  "nbformat": 4,
  "nbformat_minor": 0
}